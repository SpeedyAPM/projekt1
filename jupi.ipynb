{
 "cells": [
  {
   "cell_type": "code",
   "execution_count": 8,
   "metadata": {},
   "outputs": [
    {
     "name": "stdout",
     "output_type": "stream",
     "text": [
      "<class 'NoneType'>\n",
      "False\n"
     ]
    }
   ],
   "source": [
    "def pfff():\n",
    "    pass\n",
    "\n",
    "zmienna = pfff()\n",
    "print(type(zmienna))\n",
    "zmienna = bool(zmienna)\n",
    "print(zmienna)\n",
    "print(zmienna)"
   ]
  },
  {
   "cell_type": "code",
   "execution_count": 7,
   "metadata": {},
   "outputs": [
    {
     "name": "stdout",
     "output_type": "stream",
     "text": [
      "['aaa', 'bbb', 'ccc']\n",
      "aaa\n",
      "bbb\n",
      "ccc\n"
     ]
    }
   ],
   "source": [
    "lista = [ \"aaa\", \"bbb\" , \"ccc\"]\n",
    "print(lista)\n",
    "print(*lista, sep=\"\\n\")\n",
    "\n",
    "x = 1.1111\n",
    "y = 0.1111\n",
    "x = 1.0\n",
    "if type(x) == int:\n",
    "    print(\"prawda\")\n",
    "\n"
   ]
  },
  {
   "cell_type": "markdown",
   "metadata": {},
   "source": [
    "Dwa okna testowe powyżej"
   ]
  }
 ],
 "metadata": {
  "interpreter": {
   "hash": "30295c5bec572e859485b1ffa5e89b8b3e2022ef6e3e739c1ac40f143a557caf"
  },
  "kernelspec": {
   "display_name": "Python 3.6.9 64-bit",
   "language": "python",
   "name": "python3"
  },
  "language_info": {
   "codemirror_mode": {
    "name": "ipython",
    "version": 3
   },
   "file_extension": ".py",
   "mimetype": "text/x-python",
   "name": "python",
   "nbconvert_exporter": "python",
   "pygments_lexer": "ipython3",
   "version": "3.6.9"
  },
  "orig_nbformat": 4
 },
 "nbformat": 4,
 "nbformat_minor": 2
}
